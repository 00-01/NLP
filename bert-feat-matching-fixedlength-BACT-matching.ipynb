{
 "cells": [
  {
   "cell_type": "code",
   "execution_count": 1,
   "id": "862efe8f-f6ef-4299-9233-b0da94a1cb0a",
   "metadata": {},
   "outputs": [
    {
     "name": "stderr",
     "output_type": "stream",
     "text": [
      "2023-07-27 11:27:24.421299: I metal_plugin/src/device/metal_device.cc:1154] Metal device set to: Apple M1 Max\n",
      "2023-07-27 11:27:24.421319: I metal_plugin/src/device/metal_device.cc:296] systemMemory: 64.00 GB\n",
      "2023-07-27 11:27:24.421323: I metal_plugin/src/device/metal_device.cc:313] maxCacheSize: 24.00 GB\n",
      "2023-07-27 11:27:24.421359: I tensorflow/core/common_runtime/pluggable_device/pluggable_device_factory.cc:303] Could not identify NUMA node of platform GPU ID 0, defaulting to 0. Your kernel may not have been built with NUMA support.\n",
      "2023-07-27 11:27:24.421375: I tensorflow/core/common_runtime/pluggable_device/pluggable_device_factory.cc:269] Created TensorFlow device (/job:localhost/replica:0/task:0/device:GPU:0 with 0 MB memory) -> physical PluggableDevice (device: 0, name: METAL, pci bus id: <undefined>)\n",
      "The tokenizer class you load from this checkpoint is not the same type as the class this function is called from. It may result in unexpected tokenization. \n",
      "The tokenizer class you load from this checkpoint is 'DistilBertTokenizer'. \n",
      "The class this function is called from is 'BertTokenizer'.\n",
      "You are using a model of type distilbert to instantiate a model of type bert. This is not supported for all configurations of models and can yield errors.\n",
      "Some layers from the model checkpoint at distilbert-base-multilingual-cased were not used when initializing TFBertModel: ['vocab_transform', 'vocab_layer_norm', 'vocab_projector', 'distilbert', 'activation_13']\n",
      "- This IS expected if you are initializing TFBertModel from the checkpoint of a model trained on another task or with another architecture (e.g. initializing a BertForSequenceClassification model from a BertForPreTraining model).\n",
      "- This IS NOT expected if you are initializing TFBertModel from the checkpoint of a model that you expect to be exactly identical (initializing a BertForSequenceClassification model from a BertForSequenceClassification model).\n",
      "Some layers of TFBertModel were not initialized from the model checkpoint at distilbert-base-multilingual-cased and are newly initialized: ['bert']\n",
      "You should probably TRAIN this model on a down-stream task to be able to use it for predictions and inference.\n"
     ]
    }
   ],
   "source": [
    "import json\n",
    "\n",
    "import numpy as np\n",
    "import tensorflow as tf\n",
    "import pandas as pd\n",
    "from transformers import BertTokenizer, TFBertModel\n",
    "\n",
    "from rich.progress import track\n",
    "\n",
    "# distilbert-base-multilingual-cased\n",
    "# bert-base-multilingual-cased\n",
    "tokenizer = BertTokenizer.from_pretrained(\"distilbert-base-multilingual-cased\")\n",
    "bert_model = TFBertModel.from_pretrained(\"distilbert-base-multilingual-cased\")"
   ]
  },
  {
   "cell_type": "code",
   "execution_count": 2,
   "id": "a084d670-2319-40fa-8ca1-d9e2b639c6cd",
   "metadata": {},
   "outputs": [],
   "source": [
    "def get_bert_hidden_state(tokenizer, bert_model, sequence, max_size=None):\n",
    "    inputs = tokenizer(sequence, return_tensors=\"tf\")\n",
    "    outputs = bert_model(inputs)\n",
    "    last_hidden_states = outputs.last_hidden_state\n",
    "    bert_feat = tf.keras.layers.Flatten()(last_hidden_states).numpy()   \n",
    "    \n",
    "    if max_size:\n",
    "        bert_fixed_feat = np.zeros((1,max_size))\n",
    "        size = bert_feat.shape[1]\n",
    "        bert_fixed_feat[0][:size] = bert_feat\n",
    "    \n",
    "        return bert_fixed_feat\n",
    "    else:\n",
    "        return bert_feat    "
   ]
  },
  {
   "attachments": {},
   "cell_type": "markdown",
   "id": "a0c4da88-dde1-4352-9384-5bf998d1651a",
   "metadata": {},
   "source": [
    "### Read marked text inputs"
   ]
  },
  {
   "cell_type": "code",
   "execution_count": 3,
   "id": "3dd16ba4-b316-468c-a56b-a74a1c8ec2a2",
   "metadata": {},
   "outputs": [
    {
     "data": {
      "text/html": [
       "<div>\n",
       "<style scoped>\n",
       "    .dataframe tbody tr th:only-of-type {\n",
       "        vertical-align: middle;\n",
       "    }\n",
       "\n",
       "    .dataframe tbody tr th {\n",
       "        vertical-align: top;\n",
       "    }\n",
       "\n",
       "    .dataframe thead th {\n",
       "        text-align: right;\n",
       "    }\n",
       "</style>\n",
       "<table border=\"1\" class=\"dataframe\">\n",
       "  <thead>\n",
       "    <tr style=\"text-align: right;\">\n",
       "      <th></th>\n",
       "      <th>가치 영역 구분</th>\n",
       "      <th>활동</th>\n",
       "    </tr>\n",
       "  </thead>\n",
       "  <tbody>\n",
       "    <tr>\n",
       "      <th>0</th>\n",
       "      <td>대인관계</td>\n",
       "      <td>일기 쓰기</td>\n",
       "    </tr>\n",
       "    <tr>\n",
       "      <th>1</th>\n",
       "      <td>대인관계</td>\n",
       "      <td>펍에서 게임 참여하기</td>\n",
       "    </tr>\n",
       "    <tr>\n",
       "      <th>2</th>\n",
       "      <td>대인관계</td>\n",
       "      <td>떠다니는 구름 보기</td>\n",
       "    </tr>\n",
       "    <tr>\n",
       "      <th>3</th>\n",
       "      <td>대인관계</td>\n",
       "      <td>토론하기</td>\n",
       "    </tr>\n",
       "    <tr>\n",
       "      <th>4</th>\n",
       "      <td>대인관계</td>\n",
       "      <td>매니큐어 칠하기</td>\n",
       "    </tr>\n",
       "    <tr>\n",
       "      <th>...</th>\n",
       "      <td>...</td>\n",
       "      <td>...</td>\n",
       "    </tr>\n",
       "    <tr>\n",
       "      <th>344</th>\n",
       "      <td>자기돌봄</td>\n",
       "      <td>클럽이나 바에 놀러가기</td>\n",
       "    </tr>\n",
       "    <tr>\n",
       "      <th>345</th>\n",
       "      <td>자기돌봄</td>\n",
       "      <td>친구를 식사에 초대하기</td>\n",
       "    </tr>\n",
       "    <tr>\n",
       "      <th>346</th>\n",
       "      <td>자기돌봄</td>\n",
       "      <td>스스로에게 꽃 선물하기</td>\n",
       "    </tr>\n",
       "    <tr>\n",
       "      <th>347</th>\n",
       "      <td>자기돌봄</td>\n",
       "      <td>족욕하기</td>\n",
       "    </tr>\n",
       "    <tr>\n",
       "      <th>348</th>\n",
       "      <td>자기돌봄</td>\n",
       "      <td>나만의 힐링타임 가지기</td>\n",
       "    </tr>\n",
       "  </tbody>\n",
       "</table>\n",
       "<p>349 rows × 2 columns</p>\n",
       "</div>"
      ],
      "text/plain": [
       "    가치 영역 구분            활동\n",
       "0       대인관계         일기 쓰기\n",
       "1       대인관계   펍에서 게임 참여하기\n",
       "2       대인관계    떠다니는 구름 보기\n",
       "3       대인관계          토론하기\n",
       "4       대인관계      매니큐어 칠하기\n",
       "..       ...           ...\n",
       "344     자기돌봄  클럽이나 바에 놀러가기\n",
       "345     자기돌봄  친구를 식사에 초대하기\n",
       "346     자기돌봄  스스로에게 꽃 선물하기\n",
       "347     자기돌봄          족욕하기\n",
       "348     자기돌봄  나만의 힐링타임 가지기\n",
       "\n",
       "[349 rows x 2 columns]"
      ]
     },
     "execution_count": 3,
     "metadata": {},
     "output_type": "execute_result"
    }
   ],
   "source": [
    "bact_list = pd.read_excel(\"GPT_bact_activity_list.xlsx\", sheet_name=\"0420 활동명 축약본\")\n",
    "bact_list"
   ]
  },
  {
   "cell_type": "code",
   "execution_count": 4,
   "id": "ccfa3b07",
   "metadata": {},
   "outputs": [
    {
     "data": {
      "text/plain": [
       "['일기 쓰기',\n",
       " '펍에서 게임 참여하기',\n",
       " '떠다니는 구름 보기',\n",
       " '토론하기',\n",
       " '매니큐어 칠하기',\n",
       " '쉬는 날 계획하기',\n",
       " '건설적으로 의견 말하기',\n",
       " '친구(들)와 시간 보내기',\n",
       " '저녁 외식하기',\n",
       " '스파 이용하기',\n",
       " '정치적 의견 나누기',\n",
       " '몸에 로션 바르기',\n",
       " 'TV 보기',\n",
       " '기프트카드 보내기',\n",
       " '베이킹해서 사람들 나눠주기',\n",
       " '특별한 음식 요리해 먹기',\n",
       " '친구와 영상통화하기',\n",
       " '가족과 영상통화하기',\n",
       " '욕조에 몸 담그기',\n",
       " '악기 연주하기',\n",
       " '혼자 시간 보내기',\n",
       " '운동하기',\n",
       " '누군가에게 호감 표현하기',\n",
       " '모임 주최하기',\n",
       " '오토바이 타기',\n",
       " '와인 시음하기',\n",
       " '자연 풍경 감상하기',\n",
       " '즉흥적으로 원하는 활동하기',\n",
       " '피크닉 가기',\n",
       " '머리 감기',\n",
       " '미래에 대해 상상하기',\n",
       " '화분/식물 관리하기',\n",
       " '모임 참석하기',\n",
       " '공과금 지불하기',\n",
       " '사진 보기',\n",
       " '사진 업로드하기',\n",
       " '도시 관광하기',\n",
       " '박람회 가기',\n",
       " '산책하기',\n",
       " '관심 주제 조사하기',\n",
       " '바다 가기',\n",
       " '봉사활동 하기',\n",
       " '꽃향기 맡기',\n",
       " '잠자기',\n",
       " '동물원 가기',\n",
       " '수족관 가기',\n",
       " '퍼즐 맞추기',\n",
       " '자선단체에 물건 기부하기',\n",
       " '햇볕 쬐기',\n",
       " '마술 배우기',\n",
       " '전화 통화하기',\n",
       " '팟캐스트 청취하기',\n",
       " '라디오 청취하기',\n",
       " '수공예 하기',\n",
       " '그림 그리기',\n",
       " '야외에서 새소리 듣기',\n",
       " '무료 강연 듣기',\n",
       " '축제 가기',\n",
       " '카드놀이 하기',\n",
       " '동물보호소에서 봉사하기',\n",
       " '좋아하는 영화 다시 보기',\n",
       " '샤워하며 노래 부르기',\n",
       " '캠핑 가기',\n",
       " '배구하기',\n",
       " '자전거 타기',\n",
       " '대회 참가하기',\n",
       " '가로세로 낱말 퀴즈 풀기',\n",
       " '반려동물 쓰다듬기',\n",
       " '반려동물 껴안기',\n",
       " '새로운 요리법 시도하기',\n",
       " '집에서 관리하기(홈케어)',\n",
       " '과일 음미해보기',\n",
       " '차 끓이기',\n",
       " '골프치기',\n",
       " '누군가에게 호의 베풀기',\n",
       " '원하는 물건 직접 만들기',\n",
       " '아름다운 풍경 사진 보기',\n",
       " '가족 모임 갖기',\n",
       " '음악 듣기',\n",
       " '새로운 언어 배우기',\n",
       " '무료 온라인 강좌 듣기',\n",
       " '일하기',\n",
       " '면도하기',\n",
       " '집에서 노래 부르기',\n",
       " '옛날 사진 다시보기',\n",
       " '매니큐어 받기',\n",
       " '페디큐어 받기',\n",
       " '보트 타기',\n",
       " '배 타기',\n",
       " '스트레칭하기',\n",
       " '악기 관리하기',\n",
       " '축구하기',\n",
       " '세계 각국의 음식 요리하기',\n",
       " '식물원 가기',\n",
       " '경치 좋은 곳에 가서 즐기기',\n",
       " '자동차 경주장 가기 ',\n",
       " '오토바이 경주장 가기',\n",
       " '푹신한 이불/담요 덮기',\n",
       " '오디오북 듣기',\n",
       " '공개 코미디 보러가기',\n",
       " '감사한 것들 적어보기',\n",
       " '집에서 피자 만들기',\n",
       " '반려동물 검진 받기',\n",
       " '새로운 기술 가르치기',\n",
       " '오락실 가기',\n",
       " 'PC방 가기',\n",
       " '트램펄린 뛰기',\n",
       " '친구에게 메세지 보내기',\n",
       " '낚시하기',\n",
       " '낙서하기',\n",
       " '새로운 헤어스타일 시도하기',\n",
       " '시위에 참여하기',\n",
       " '영화 보러 가기',\n",
       " '수상레저 하기',\n",
       " '미용실 가기',\n",
       " '이발소 가기',\n",
       " '부드러운 땅을 맨발로 걷기',\n",
       " '영화 몇 편 이어보기',\n",
       " '줄넘기하기 ',\n",
       " '쇼핑하기',\n",
       " '노래방 가기',\n",
       " '기분 좋아지는 옷 골라 입기',\n",
       " '메이크업 샵 가기',\n",
       " '조립 취미 생활하기',\n",
       " '조부모님과 이야기 나누기',\n",
       " '클래식 음악 듣기',\n",
       " '사진 찍기',\n",
       " '유튜브로 동영상 보기',\n",
       " '종교생활 하기',\n",
       " '야외 영화관에서 영화 보기',\n",
       " '영양이 풍부한 음식 먹기',\n",
       " '근력운동 하기',\n",
       " '머리 빗기',\n",
       " '파티 계획하기',\n",
       " '편한 옷 입기',\n",
       " '맛있는 것 먹기',\n",
       " '연극 하기',\n",
       " '수영하기',\n",
       " '케이크 만들기',\n",
       " '암벽 등반하기',\n",
       " '원데이 클래스 참여하기',\n",
       " '놀이공원 가기',\n",
       " '선물 사기',\n",
       " '헬스장 가기',\n",
       " '집 수리하기',\n",
       " '슬라임 가지고 놀기',\n",
       " '옛 친구에게 연락하기',\n",
       " '캘리그래피 연습하기',\n",
       " '세차하기',\n",
       " '드라이브 가기',\n",
       " '갯벌 체험하기',\n",
       " '반려동물과 놀기 ',\n",
       " '번지점프 하기',\n",
       " '패러글라이딩하기',\n",
       " '카누 타기',\n",
       " '카약 타기',\n",
       " '급류 래프팅하기',\n",
       " '라디오 청취하기',\n",
       " '스도쿠(숫자 퍼즐) 하기',\n",
       " '옷장 정리하기',\n",
       " '강변이나 해변 걷기',\n",
       " '당구 치기 ',\n",
       " '집에 예술작품 놓기',\n",
       " '인터넷 서핑하기',\n",
       " '자수 놓기',\n",
       " '십자수 하기',\n",
       " '철물점 둘러보기',\n",
       " 'DIY 상점 둘러보기',\n",
       " '실내 장식 새로 하기 ',\n",
       " '커튼 열어 햇빛 들게 하기',\n",
       " '명상하기',\n",
       " '반려동물 묘기 훈련시키기',\n",
       " '활동들로 하루 계획하기',\n",
       " '설거지하기',\n",
       " '파티 가기',\n",
       " '탁구 치기',\n",
       " '열기구 타기 ',\n",
       " '관광하기',\n",
       " '정원 관리하기',\n",
       " '벤치에 앉아 여유 즐기기',\n",
       " '글쓰기(예, 기사, 블로그)',\n",
       " '실내 피크닉 하기',\n",
       " '고전 문학 읽기',\n",
       " '데이트하기',\n",
       " '외모 가꾸기',\n",
       " '맨발로 모래 위 걷기',\n",
       " '잡지 읽기',\n",
       " '신문 읽기',\n",
       " '친구에게 전화하기',\n",
       " '손편지 보내기',\n",
       " '스노쿨링하기',\n",
       " '등산하기',\n",
       " '소설 읽기',\n",
       " '새로운 사람들 만나기',\n",
       " '차분하게 심호흡하기',\n",
       " '동물들 먹이주기',\n",
       " '기존 물건 리폼하기',\n",
       " '음반 구매하기',\n",
       " '음원 구매하기',\n",
       " '이완하기',\n",
       " '스포츠 경기 보러가기',\n",
       " '목공예하기',\n",
       " '옷 사기',\n",
       " '비디오 게임하기',\n",
       " '중고거래 하기',\n",
       " '무료나눔 하기',\n",
       " '사람(들)에게 사랑 표현하기',\n",
       " '나만의 플레이스트 만들기',\n",
       " '컬러링북 색칠하기',\n",
       " '서바이벌 슈팅 게임하기',\n",
       " '합창단 활동하기',\n",
       " '사소한 일 처리하기',\n",
       " '유람선 타기',\n",
       " '분재 식물 모양 잡기',\n",
       " '노을 바라보기',\n",
       " '어항 관리하기',\n",
       " '비소설 읽기',\n",
       " '작사하기',\n",
       " '작곡하기',\n",
       " '개를 공원에 데려가기',\n",
       " '도서관에서 책 빌리기',\n",
       " '바비큐 하기',\n",
       " '바느질하기',\n",
       " '춤추기',\n",
       " '친구와 점심 먹기',\n",
       " '이웃과 이야기하기',\n",
       " '손 잡기',\n",
       " '전시회에 가기',\n",
       " '할 일 목록 만들기',\n",
       " '해외 여행하기',\n",
       " '국내 여행하기',\n",
       " '조용한 저녁 시간 보내기',\n",
       " '증강현실 게임하기',\n",
       " '집에서 빵 굽기',\n",
       " '이메일 주고받기',\n",
       " '뜨개질 하기',\n",
       " '사격 연습하기',\n",
       " '전기자전거 타기',\n",
       " '전동킥보드 타기',\n",
       " '조부모님 뵈러 가기',\n",
       " '누군가를 위한 선물 만들기',\n",
       " '친구들과 토론하기',\n",
       " '침대 이불 정리하기',\n",
       " '자녀들 노는 모습 바라보기 ',\n",
       " '액세서리 만들기',\n",
       " '시 읽기',\n",
       " '동네 뒷산 오르기',\n",
       " '마사지 받기',\n",
       " '마사지 해주기',\n",
       " '점심 외식하기',\n",
       " '태닝하기',\n",
       " '불필요한 물건 정리하기',\n",
       " '꽃꽂이하기',\n",
       " '자동차 정비하기',\n",
       " '자전거 정비하기',\n",
       " '텃밭 가꾸기',\n",
       " '농담하기',\n",
       " '바깥에서 사람들 구경하기',\n",
       " '책 내용에 대해 토론하기',\n",
       " '실내 식물 사기 ',\n",
       " '다른 사람에게 칭찬하기',\n",
       " '요가하기',\n",
       " '집 근처 걷기 ',\n",
       " '다른 사람의 말 경청하기',\n",
       " '바닷가에서 해산물 먹기',\n",
       " '책 구매하기 ',\n",
       " '작업 공간 정리하기',\n",
       " '일출 감상하기',\n",
       " '일몰 감상하기',\n",
       " '밤하늘 보기',\n",
       " '집에서 영화 보기',\n",
       " '도자기 만들기',\n",
       " '피트니스 게임하기',\n",
       " '워터파크가기',\n",
       " '잠시 전자기기 끄기',\n",
       " '카트장에서 카트 타기',\n",
       " '공상에 잠기기',\n",
       " '나의 가계도 알아보기',\n",
       " '농장에서 과일 따기',\n",
       " '아이들 운동하는 모습 보기',\n",
       " '예산 짜기',\n",
       " '웹사이트에 좋은 댓글 달기',\n",
       " '멋진 서프라이즈 계획하기',\n",
       " '취미로 수집하기',\n",
       " '스크랩하기',\n",
       " '초대에 응하기',\n",
       " '진로 계획하기',\n",
       " '수수께끼 풀기',\n",
       " '스쿠버다이빙하기',\n",
       " 'OTT 서비스 이용하기',\n",
       " '모래성 만들기',\n",
       " '가구들 새로 꾸미기',\n",
       " '물멍하기',\n",
       " '불꽃놀이 감상하기',\n",
       " '특별한(아끼는) 물건 쓰기',\n",
       " '스포츠팀 응원하기',\n",
       " '종이 접기',\n",
       " '향수를 일으키는 일 하기',\n",
       " '동아리 가입하기',\n",
       " '촛불 켜기',\n",
       " '볼링치기',\n",
       " '박물관 가기',\n",
       " '미술관 가기',\n",
       " '만화책 읽기',\n",
       " '웹툰 읽기',\n",
       " '카페에서 커피 마시기',\n",
       " '식물 돌보기',\n",
       " '차박 여행하기',\n",
       " '불멍하기',\n",
       " '재택근무하기',\n",
       " '음식을 사서 야외에서 먹기',\n",
       " '보드게임 하기',\n",
       " '초콜릿 음미하기',\n",
       " '주식을 사거나 팔기',\n",
       " '공연 보러 가기',\n",
       " '아이쇼핑 하기',\n",
       " '브런치 먹으러 가기',\n",
       " '집의 가구 재배치하기',\n",
       " '맛집 탐방하기',\n",
       " '다른 사람 안아주기',\n",
       " '휴가 보내기',\n",
       " '새로운 가구 사기',\n",
       " '오래된 물건 재활용하기',\n",
       " '청소하기',\n",
       " '휴가 계획하기',\n",
       " '아이 대신 돌보기',\n",
       " '원하는 것 배우기',\n",
       " '집에서 기른 작물 수확하기',\n",
       " '스스로 칭찬하기',\n",
       " '친구들과의 추억 떠올려보기',\n",
       " '지난 휴가 기억해보기',\n",
       " '평소 갖고 싶었던 것 사기',\n",
       " '숲에서 걷기',\n",
       " '숲에서 달리기',\n",
       " '회의 참여하기',\n",
       " '무언가 창의적으로 만들기',\n",
       " '자녀(들)와 시간 보내기',\n",
       " '사탕 먹기',\n",
       " '케이크 먹기',\n",
       " '과자 먹기',\n",
       " '다른 사람을 가르치기',\n",
       " '동물(들)과 시간 보내기',\n",
       " '기타 연주하기',\n",
       " '정치적인 일에 참여하기',\n",
       " '클럽이나 바에 놀러가기',\n",
       " '친구를 식사에 초대하기',\n",
       " '스스로에게 꽃 선물하기',\n",
       " '족욕하기',\n",
       " '나만의 힐링타임 가지기']"
      ]
     },
     "execution_count": 4,
     "metadata": {},
     "output_type": "execute_result"
    }
   ],
   "source": [
    "bact_list['활동'].values.tolist()"
   ]
  },
  {
   "cell_type": "code",
   "execution_count": 5,
   "id": "eb1e65df",
   "metadata": {},
   "outputs": [
    {
     "data": {
      "text/plain": [
       "(349, 2)"
      ]
     },
     "execution_count": 5,
     "metadata": {},
     "output_type": "execute_result"
    }
   ],
   "source": [
    "bact_list.shape"
   ]
  },
  {
   "cell_type": "code",
   "execution_count": 6,
   "id": "1209c420",
   "metadata": {},
   "outputs": [
    {
     "data": {
      "text/plain": [
       "<bound method Series.unique of 0             일기 쓰기\n",
       "1       펍에서 게임 참여하기\n",
       "2        떠다니는 구름 보기\n",
       "3              토론하기\n",
       "4          매니큐어 칠하기\n",
       "           ...     \n",
       "344    클럽이나 바에 놀러가기\n",
       "345    친구를 식사에 초대하기\n",
       "346    스스로에게 꽃 선물하기\n",
       "347            족욕하기\n",
       "348    나만의 힐링타임 가지기\n",
       "Name: 활동, Length: 349, dtype: object>"
      ]
     },
     "execution_count": 6,
     "metadata": {},
     "output_type": "execute_result"
    }
   ],
   "source": [
    "bact_list['활동'].unique"
   ]
  },
  {
   "attachments": {},
   "cell_type": "markdown",
   "id": "4e7d91ab-be97-442d-89d2-561a3feeb351",
   "metadata": {},
   "source": [
    "### Set max fixed tokenized data size\n",
    "\n",
    "Then get the fixed data"
   ]
  },
  {
   "cell_type": "code",
   "execution_count": 7,
   "id": "5256a7fd-d476-46b0-9d68-0bce5f121b0d",
   "metadata": {},
   "outputs": [],
   "source": [
    "max_token_length = 384"
   ]
  },
  {
   "cell_type": "code",
   "execution_count": 8,
   "id": "22479d27-8afd-4f3d-957b-ae85760346db",
   "metadata": {},
   "outputs": [],
   "source": [
    "bert_feats = np.zeros((349, max_token_length * 768))"
   ]
  },
  {
   "cell_type": "code",
   "execution_count": 9,
   "id": "46ab8a15",
   "metadata": {},
   "outputs": [
    {
     "data": {
      "text/plain": [
       "(349, 294912)"
      ]
     },
     "execution_count": 9,
     "metadata": {},
     "output_type": "execute_result"
    }
   ],
   "source": [
    "bert_feats.shape"
   ]
  },
  {
   "cell_type": "code",
   "execution_count": 10,
   "id": "a29fd195-6b04-42b1-8221-847bed28486c",
   "metadata": {},
   "outputs": [],
   "source": [
    "inputs = tokenizer(bact_list['활동'].values.tolist(), max_length=max_token_length, padding='max_length', truncation=True, return_tensors='tf')"
   ]
  },
  {
   "cell_type": "code",
   "execution_count": 11,
   "id": "8b6b1fe5-2681-46d2-a1c1-9cb5c2b9f4c9",
   "metadata": {},
   "outputs": [
    {
     "name": "stdout",
     "output_type": "stream",
     "text": [
      "input_ids\n",
      "token_type_ids\n",
      "attention_mask\n"
     ]
    }
   ],
   "source": [
    "for key in inputs:\n",
    "    print (key)"
   ]
  },
  {
   "attachments": {},
   "cell_type": "markdown",
   "id": "861331ad-ebce-402b-8e8a-987f338dc140",
   "metadata": {},
   "source": [
    "### Batch processing "
   ]
  },
  {
   "cell_type": "code",
   "execution_count": 12,
   "id": "145d21ad-e082-4baa-a37d-c7f25646dcef",
   "metadata": {},
   "outputs": [
    {
     "data": {
      "application/vnd.jupyter.widget-view+json": {
       "model_id": "3a82ed6239cd49b8a60b158e9d31fcda",
       "version_major": 2,
       "version_minor": 0
      },
      "text/plain": [
       "Output()"
      ]
     },
     "metadata": {},
     "output_type": "display_data"
    },
    {
     "data": {
      "text/html": [
       "<pre style=\"white-space:pre;overflow-x:auto;line-height:normal;font-family:Menlo,'DejaVu Sans Mono',consolas,'Courier New',monospace\"></pre>\n"
      ],
      "text/plain": []
     },
     "metadata": {},
     "output_type": "display_data"
    },
    {
     "data": {
      "text/html": [
       "<pre style=\"white-space:pre;overflow-x:auto;line-height:normal;font-family:Menlo,'DejaVu Sans Mono',consolas,'Courier New',monospace\">\n",
       "</pre>\n"
      ],
      "text/plain": [
       "\n"
      ]
     },
     "metadata": {},
     "output_type": "display_data"
    }
   ],
   "source": [
    "batch_size = 32\n",
    "file_count = len(bact_list['활동'].values.tolist())\n",
    "for start_index in track(list(range(0, file_count, batch_size))):\n",
    "    \n",
    "    end_index = min(start_index + batch_size, file_count)\n",
    "    input_ids_ = inputs['input_ids'][start_index:end_index]\n",
    "    token_type_ids_ = inputs['token_type_ids'][start_index:end_index]\n",
    "    attention_mask_ = inputs['attention_mask'][start_index:end_index]\n",
    "    \n",
    "    outputs = bert_model({'input_ids' : input_ids_, \n",
    "            'token_type_ids' : token_type_ids_, \n",
    "            'attention_mask' : attention_mask_})\n",
    "    \n",
    "    bert_feats[start_index:end_index, :] = tf.keras.layers.Flatten()(outputs.last_hidden_state).numpy()  "
   ]
  },
  {
   "cell_type": "code",
   "execution_count": 13,
   "id": "ee8c4c2b-415d-46d9-91ea-d82953084683",
   "metadata": {},
   "outputs": [
    {
     "data": {
      "text/plain": [
       "(349, 294912)"
      ]
     },
     "execution_count": 13,
     "metadata": {},
     "output_type": "execute_result"
    }
   ],
   "source": [
    "bert_feats.shape"
   ]
  },
  {
   "cell_type": "code",
   "execution_count": 14,
   "id": "4c5f56b2-435d-48d6-9337-01c7a8077b42",
   "metadata": {},
   "outputs": [],
   "source": [
    "np.save(\"bert_feat.npy\", bert_feats)"
   ]
  },
  {
   "cell_type": "code",
   "execution_count": 15,
   "id": "985ca152-701a-4b9e-a36d-26ec2267e668",
   "metadata": {},
   "outputs": [],
   "source": [
    "max_size = bert_feats.shape[1]"
   ]
  },
  {
   "cell_type": "code",
   "execution_count": 16,
   "id": "43cf957d",
   "metadata": {},
   "outputs": [
    {
     "data": {
      "text/plain": [
       "294912"
      ]
     },
     "execution_count": 16,
     "metadata": {},
     "output_type": "execute_result"
    }
   ],
   "source": [
    "max_size"
   ]
  },
  {
   "attachments": {},
   "cell_type": "markdown",
   "id": "0709326a-2c63-4664-a0d9-447dc715446d",
   "metadata": {},
   "source": [
    "### Set up a text search engine"
   ]
  },
  {
   "cell_type": "code",
   "execution_count": 41,
   "id": "1021646a-868a-4f01-af0d-5c97d9d7168b",
   "metadata": {},
   "outputs": [],
   "source": [
    "x_bert = tf.keras.Input(shape=(max_size,))\n",
    "#x = tf.keras.layers.BatchNormalization()(x_bert)\n",
    "x = tf.keras.layers.Dense(units=bert_feats.shape[0], activation='linear', name='fc1', use_bias=False)(x_bert)   \n",
    "x_bert_regressor = tf.keras.models.Model(inputs=x_bert, outputs=x)"
   ]
  },
  {
   "cell_type": "code",
   "execution_count": 42,
   "id": "54b71e71",
   "metadata": {},
   "outputs": [
    {
     "data": {
      "text/plain": [
       "(349, 294912)"
      ]
     },
     "execution_count": 42,
     "metadata": {},
     "output_type": "execute_result"
    }
   ],
   "source": [
    "bert_feats.shape"
   ]
  },
  {
   "cell_type": "code",
   "execution_count": 43,
   "id": "6f96a811-530e-4658-80c9-352433e2471b",
   "metadata": {},
   "outputs": [],
   "source": [
    "bert_feats_T = bert_feats.T"
   ]
  },
  {
   "cell_type": "code",
   "execution_count": 44,
   "id": "049cd74c",
   "metadata": {},
   "outputs": [
    {
     "data": {
      "text/plain": [
       "(294912, 349)"
      ]
     },
     "execution_count": 44,
     "metadata": {},
     "output_type": "execute_result"
    }
   ],
   "source": [
    "bert_feats_T.shape"
   ]
  },
  {
   "cell_type": "code",
   "execution_count": 45,
   "id": "78d0d2bb-e0bf-4489-a488-9f8ca02ae08a",
   "metadata": {},
   "outputs": [],
   "source": [
    "temp_weights = x_bert_regressor.get_weights()"
   ]
  },
  {
   "cell_type": "code",
   "execution_count": 46,
   "id": "3d7ba00f",
   "metadata": {},
   "outputs": [
    {
     "data": {
      "text/plain": [
       "(294912, 349)"
      ]
     },
     "execution_count": 46,
     "metadata": {},
     "output_type": "execute_result"
    }
   ],
   "source": [
    "temp_weights[-1].shape"
   ]
  },
  {
   "cell_type": "code",
   "execution_count": 47,
   "id": "c846ccc6-5c9b-4af7-b8b3-c9f83171a7d1",
   "metadata": {},
   "outputs": [],
   "source": [
    "temp_weights[-1] = bert_feats_T \n",
    "x_bert_regressor.set_weights(temp_weights)"
   ]
  },
  {
   "cell_type": "code",
   "execution_count": 48,
   "id": "a050e4bb-9065-426b-be41-8515b5adc3f1",
   "metadata": {},
   "outputs": [],
   "source": [
    "x_bert_regressor.save_weights('100-ko-featmatching.h5')"
   ]
  },
  {
   "cell_type": "code",
   "execution_count": 49,
   "id": "8c425b28-3de0-464e-bac7-f78e1fe7c90e",
   "metadata": {},
   "outputs": [],
   "source": [
    "json_model = x_bert_regressor.to_json()\n",
    "#save the model architecture to JSON file\n",
    "with open('x_bert_regressor.json', 'w') as json_file:\n",
    "    json_file.write(json_model)"
   ]
  },
  {
   "cell_type": "markdown",
   "id": "b35359a1",
   "metadata": {},
   "source": [
    "### 여기서 부터는 RESTful API로 DOCKER에 입력하는 부분"
   ]
  },
  {
   "cell_type": "code",
   "execution_count": 78,
   "id": "96517c78-0434-468f-9819-0772660452b7",
   "metadata": {},
   "outputs": [],
   "source": [
    "human_input_keyword = '노래를 불렀다.'"
   ]
  },
  {
   "cell_type": "code",
   "execution_count": 85,
   "id": "68e66906-f443-4c3d-a90b-ebfac5c42bc3",
   "metadata": {},
   "outputs": [],
   "source": [
    "# 이 코드는 Docker 안에 있어야 함\n",
    "input_feats = get_bert_hidden_state(tokenizer, bert_model, human_input_keyword, max_size=max_size)"
   ]
  },
  {
   "cell_type": "code",
   "execution_count": 80,
   "id": "94572a6d-5083-4074-b687-1cbb9bb86f85",
   "metadata": {},
   "outputs": [
    {
     "data": {
      "text/plain": [
       "array([[-0.38672116, -0.0322022 , -0.04829908, ...,  0.        ,\n",
       "         0.        ,  0.        ]])"
      ]
     },
     "execution_count": 80,
     "metadata": {},
     "output_type": "execute_result"
    }
   ],
   "source": [
    "input_feats"
   ]
  },
  {
   "cell_type": "code",
   "execution_count": 81,
   "id": "776146bf-7a54-44df-b3ee-accb5f99d316",
   "metadata": {},
   "outputs": [
    {
     "name": "stdout",
     "output_type": "stream",
     "text": [
      "1/1 [==============================] - 0s 14ms/step\n"
     ]
    }
   ],
   "source": [
    "prediction = x_bert_regressor.predict(input_feats).reshape(-1)"
   ]
  },
  {
   "cell_type": "code",
   "execution_count": 82,
   "id": "d50569e2",
   "metadata": {},
   "outputs": [],
   "source": [
    "total_text = bact_list['활동'].values.tolist()"
   ]
  },
  {
   "cell_type": "code",
   "execution_count": 83,
   "id": "99dee2e5",
   "metadata": {},
   "outputs": [
    {
     "data": {
      "text/plain": [
       "['일기 쓰기',\n",
       " '펍에서 게임 참여하기',\n",
       " '떠다니는 구름 보기',\n",
       " '토론하기',\n",
       " '매니큐어 칠하기',\n",
       " '쉬는 날 계획하기',\n",
       " '건설적으로 의견 말하기',\n",
       " '친구(들)와 시간 보내기',\n",
       " '저녁 외식하기',\n",
       " '스파 이용하기',\n",
       " '정치적 의견 나누기',\n",
       " '몸에 로션 바르기',\n",
       " 'TV 보기',\n",
       " '기프트카드 보내기',\n",
       " '베이킹해서 사람들 나눠주기',\n",
       " '특별한 음식 요리해 먹기',\n",
       " '친구와 영상통화하기',\n",
       " '가족과 영상통화하기',\n",
       " '욕조에 몸 담그기',\n",
       " '악기 연주하기',\n",
       " '혼자 시간 보내기',\n",
       " '운동하기',\n",
       " '누군가에게 호감 표현하기',\n",
       " '모임 주최하기',\n",
       " '오토바이 타기',\n",
       " '와인 시음하기',\n",
       " '자연 풍경 감상하기',\n",
       " '즉흥적으로 원하는 활동하기',\n",
       " '피크닉 가기',\n",
       " '머리 감기',\n",
       " '미래에 대해 상상하기',\n",
       " '화분/식물 관리하기',\n",
       " '모임 참석하기',\n",
       " '공과금 지불하기',\n",
       " '사진 보기',\n",
       " '사진 업로드하기',\n",
       " '도시 관광하기',\n",
       " '박람회 가기',\n",
       " '산책하기',\n",
       " '관심 주제 조사하기',\n",
       " '바다 가기',\n",
       " '봉사활동 하기',\n",
       " '꽃향기 맡기',\n",
       " '잠자기',\n",
       " '동물원 가기',\n",
       " '수족관 가기',\n",
       " '퍼즐 맞추기',\n",
       " '자선단체에 물건 기부하기',\n",
       " '햇볕 쬐기',\n",
       " '마술 배우기',\n",
       " '전화 통화하기',\n",
       " '팟캐스트 청취하기',\n",
       " '라디오 청취하기',\n",
       " '수공예 하기',\n",
       " '그림 그리기',\n",
       " '야외에서 새소리 듣기',\n",
       " '무료 강연 듣기',\n",
       " '축제 가기',\n",
       " '카드놀이 하기',\n",
       " '동물보호소에서 봉사하기',\n",
       " '좋아하는 영화 다시 보기',\n",
       " '샤워하며 노래 부르기',\n",
       " '캠핑 가기',\n",
       " '배구하기',\n",
       " '자전거 타기',\n",
       " '대회 참가하기',\n",
       " '가로세로 낱말 퀴즈 풀기',\n",
       " '반려동물 쓰다듬기',\n",
       " '반려동물 껴안기',\n",
       " '새로운 요리법 시도하기',\n",
       " '집에서 관리하기(홈케어)',\n",
       " '과일 음미해보기',\n",
       " '차 끓이기',\n",
       " '골프치기',\n",
       " '누군가에게 호의 베풀기',\n",
       " '원하는 물건 직접 만들기',\n",
       " '아름다운 풍경 사진 보기',\n",
       " '가족 모임 갖기',\n",
       " '음악 듣기',\n",
       " '새로운 언어 배우기',\n",
       " '무료 온라인 강좌 듣기',\n",
       " '일하기',\n",
       " '면도하기',\n",
       " '집에서 노래 부르기',\n",
       " '옛날 사진 다시보기',\n",
       " '매니큐어 받기',\n",
       " '페디큐어 받기',\n",
       " '보트 타기',\n",
       " '배 타기',\n",
       " '스트레칭하기',\n",
       " '악기 관리하기',\n",
       " '축구하기',\n",
       " '세계 각국의 음식 요리하기',\n",
       " '식물원 가기',\n",
       " '경치 좋은 곳에 가서 즐기기',\n",
       " '자동차 경주장 가기 ',\n",
       " '오토바이 경주장 가기',\n",
       " '푹신한 이불/담요 덮기',\n",
       " '오디오북 듣기',\n",
       " '공개 코미디 보러가기',\n",
       " '감사한 것들 적어보기',\n",
       " '집에서 피자 만들기',\n",
       " '반려동물 검진 받기',\n",
       " '새로운 기술 가르치기',\n",
       " '오락실 가기',\n",
       " 'PC방 가기',\n",
       " '트램펄린 뛰기',\n",
       " '친구에게 메세지 보내기',\n",
       " '낚시하기',\n",
       " '낙서하기',\n",
       " '새로운 헤어스타일 시도하기',\n",
       " '시위에 참여하기',\n",
       " '영화 보러 가기',\n",
       " '수상레저 하기',\n",
       " '미용실 가기',\n",
       " '이발소 가기',\n",
       " '부드러운 땅을 맨발로 걷기',\n",
       " '영화 몇 편 이어보기',\n",
       " '줄넘기하기 ',\n",
       " '쇼핑하기',\n",
       " '노래방 가기',\n",
       " '기분 좋아지는 옷 골라 입기',\n",
       " '메이크업 샵 가기',\n",
       " '조립 취미 생활하기',\n",
       " '조부모님과 이야기 나누기',\n",
       " '클래식 음악 듣기',\n",
       " '사진 찍기',\n",
       " '유튜브로 동영상 보기',\n",
       " '종교생활 하기',\n",
       " '야외 영화관에서 영화 보기',\n",
       " '영양이 풍부한 음식 먹기',\n",
       " '근력운동 하기',\n",
       " '머리 빗기',\n",
       " '파티 계획하기',\n",
       " '편한 옷 입기',\n",
       " '맛있는 것 먹기',\n",
       " '연극 하기',\n",
       " '수영하기',\n",
       " '케이크 만들기',\n",
       " '암벽 등반하기',\n",
       " '원데이 클래스 참여하기',\n",
       " '놀이공원 가기',\n",
       " '선물 사기',\n",
       " '헬스장 가기',\n",
       " '집 수리하기',\n",
       " '슬라임 가지고 놀기',\n",
       " '옛 친구에게 연락하기',\n",
       " '캘리그래피 연습하기',\n",
       " '세차하기',\n",
       " '드라이브 가기',\n",
       " '갯벌 체험하기',\n",
       " '반려동물과 놀기 ',\n",
       " '번지점프 하기',\n",
       " '패러글라이딩하기',\n",
       " '카누 타기',\n",
       " '카약 타기',\n",
       " '급류 래프팅하기',\n",
       " '라디오 청취하기',\n",
       " '스도쿠(숫자 퍼즐) 하기',\n",
       " '옷장 정리하기',\n",
       " '강변이나 해변 걷기',\n",
       " '당구 치기 ',\n",
       " '집에 예술작품 놓기',\n",
       " '인터넷 서핑하기',\n",
       " '자수 놓기',\n",
       " '십자수 하기',\n",
       " '철물점 둘러보기',\n",
       " 'DIY 상점 둘러보기',\n",
       " '실내 장식 새로 하기 ',\n",
       " '커튼 열어 햇빛 들게 하기',\n",
       " '명상하기',\n",
       " '반려동물 묘기 훈련시키기',\n",
       " '활동들로 하루 계획하기',\n",
       " '설거지하기',\n",
       " '파티 가기',\n",
       " '탁구 치기',\n",
       " '열기구 타기 ',\n",
       " '관광하기',\n",
       " '정원 관리하기',\n",
       " '벤치에 앉아 여유 즐기기',\n",
       " '글쓰기(예, 기사, 블로그)',\n",
       " '실내 피크닉 하기',\n",
       " '고전 문학 읽기',\n",
       " '데이트하기',\n",
       " '외모 가꾸기',\n",
       " '맨발로 모래 위 걷기',\n",
       " '잡지 읽기',\n",
       " '신문 읽기',\n",
       " '친구에게 전화하기',\n",
       " '손편지 보내기',\n",
       " '스노쿨링하기',\n",
       " '등산하기',\n",
       " '소설 읽기',\n",
       " '새로운 사람들 만나기',\n",
       " '차분하게 심호흡하기',\n",
       " '동물들 먹이주기',\n",
       " '기존 물건 리폼하기',\n",
       " '음반 구매하기',\n",
       " '음원 구매하기',\n",
       " '이완하기',\n",
       " '스포츠 경기 보러가기',\n",
       " '목공예하기',\n",
       " '옷 사기',\n",
       " '비디오 게임하기',\n",
       " '중고거래 하기',\n",
       " '무료나눔 하기',\n",
       " '사람(들)에게 사랑 표현하기',\n",
       " '나만의 플레이스트 만들기',\n",
       " '컬러링북 색칠하기',\n",
       " '서바이벌 슈팅 게임하기',\n",
       " '합창단 활동하기',\n",
       " '사소한 일 처리하기',\n",
       " '유람선 타기',\n",
       " '분재 식물 모양 잡기',\n",
       " '노을 바라보기',\n",
       " '어항 관리하기',\n",
       " '비소설 읽기',\n",
       " '작사하기',\n",
       " '작곡하기',\n",
       " '개를 공원에 데려가기',\n",
       " '도서관에서 책 빌리기',\n",
       " '바비큐 하기',\n",
       " '바느질하기',\n",
       " '춤추기',\n",
       " '친구와 점심 먹기',\n",
       " '이웃과 이야기하기',\n",
       " '손 잡기',\n",
       " '전시회에 가기',\n",
       " '할 일 목록 만들기',\n",
       " '해외 여행하기',\n",
       " '국내 여행하기',\n",
       " '조용한 저녁 시간 보내기',\n",
       " '증강현실 게임하기',\n",
       " '집에서 빵 굽기',\n",
       " '이메일 주고받기',\n",
       " '뜨개질 하기',\n",
       " '사격 연습하기',\n",
       " '전기자전거 타기',\n",
       " '전동킥보드 타기',\n",
       " '조부모님 뵈러 가기',\n",
       " '누군가를 위한 선물 만들기',\n",
       " '친구들과 토론하기',\n",
       " '침대 이불 정리하기',\n",
       " '자녀들 노는 모습 바라보기 ',\n",
       " '액세서리 만들기',\n",
       " '시 읽기',\n",
       " '동네 뒷산 오르기',\n",
       " '마사지 받기',\n",
       " '마사지 해주기',\n",
       " '점심 외식하기',\n",
       " '태닝하기',\n",
       " '불필요한 물건 정리하기',\n",
       " '꽃꽂이하기',\n",
       " '자동차 정비하기',\n",
       " '자전거 정비하기',\n",
       " '텃밭 가꾸기',\n",
       " '농담하기',\n",
       " '바깥에서 사람들 구경하기',\n",
       " '책 내용에 대해 토론하기',\n",
       " '실내 식물 사기 ',\n",
       " '다른 사람에게 칭찬하기',\n",
       " '요가하기',\n",
       " '집 근처 걷기 ',\n",
       " '다른 사람의 말 경청하기',\n",
       " '바닷가에서 해산물 먹기',\n",
       " '책 구매하기 ',\n",
       " '작업 공간 정리하기',\n",
       " '일출 감상하기',\n",
       " '일몰 감상하기',\n",
       " '밤하늘 보기',\n",
       " '집에서 영화 보기',\n",
       " '도자기 만들기',\n",
       " '피트니스 게임하기',\n",
       " '워터파크가기',\n",
       " '잠시 전자기기 끄기',\n",
       " '카트장에서 카트 타기',\n",
       " '공상에 잠기기',\n",
       " '나의 가계도 알아보기',\n",
       " '농장에서 과일 따기',\n",
       " '아이들 운동하는 모습 보기',\n",
       " '예산 짜기',\n",
       " '웹사이트에 좋은 댓글 달기',\n",
       " '멋진 서프라이즈 계획하기',\n",
       " '취미로 수집하기',\n",
       " '스크랩하기',\n",
       " '초대에 응하기',\n",
       " '진로 계획하기',\n",
       " '수수께끼 풀기',\n",
       " '스쿠버다이빙하기',\n",
       " 'OTT 서비스 이용하기',\n",
       " '모래성 만들기',\n",
       " '가구들 새로 꾸미기',\n",
       " '물멍하기',\n",
       " '불꽃놀이 감상하기',\n",
       " '특별한(아끼는) 물건 쓰기',\n",
       " '스포츠팀 응원하기',\n",
       " '종이 접기',\n",
       " '향수를 일으키는 일 하기',\n",
       " '동아리 가입하기',\n",
       " '촛불 켜기',\n",
       " '볼링치기',\n",
       " '박물관 가기',\n",
       " '미술관 가기',\n",
       " '만화책 읽기',\n",
       " '웹툰 읽기',\n",
       " '카페에서 커피 마시기',\n",
       " '식물 돌보기',\n",
       " '차박 여행하기',\n",
       " '불멍하기',\n",
       " '재택근무하기',\n",
       " '음식을 사서 야외에서 먹기',\n",
       " '보드게임 하기',\n",
       " '초콜릿 음미하기',\n",
       " '주식을 사거나 팔기',\n",
       " '공연 보러 가기',\n",
       " '아이쇼핑 하기',\n",
       " '브런치 먹으러 가기',\n",
       " '집의 가구 재배치하기',\n",
       " '맛집 탐방하기',\n",
       " '다른 사람 안아주기',\n",
       " '휴가 보내기',\n",
       " '새로운 가구 사기',\n",
       " '오래된 물건 재활용하기',\n",
       " '청소하기',\n",
       " '휴가 계획하기',\n",
       " '아이 대신 돌보기',\n",
       " '원하는 것 배우기',\n",
       " '집에서 기른 작물 수확하기',\n",
       " '스스로 칭찬하기',\n",
       " '친구들과의 추억 떠올려보기',\n",
       " '지난 휴가 기억해보기',\n",
       " '평소 갖고 싶었던 것 사기',\n",
       " '숲에서 걷기',\n",
       " '숲에서 달리기',\n",
       " '회의 참여하기',\n",
       " '무언가 창의적으로 만들기',\n",
       " '자녀(들)와 시간 보내기',\n",
       " '사탕 먹기',\n",
       " '케이크 먹기',\n",
       " '과자 먹기',\n",
       " '다른 사람을 가르치기',\n",
       " '동물(들)과 시간 보내기',\n",
       " '기타 연주하기',\n",
       " '정치적인 일에 참여하기',\n",
       " '클럽이나 바에 놀러가기',\n",
       " '친구를 식사에 초대하기',\n",
       " '스스로에게 꽃 선물하기',\n",
       " '족욕하기',\n",
       " '나만의 힐링타임 가지기']"
      ]
     },
     "execution_count": 83,
     "metadata": {},
     "output_type": "execute_result"
    }
   ],
   "source": [
    "total_text"
   ]
  },
  {
   "attachments": {},
   "cell_type": "markdown",
   "id": "5af31ab0-d739-4e95-9223-0762f503b849",
   "metadata": {},
   "source": [
    "### Text search engine response"
   ]
  },
  {
   "cell_type": "code",
   "execution_count": 84,
   "id": "b06f00cf-7a5d-489f-9514-a6507511b535",
   "metadata": {},
   "outputs": [
    {
     "name": "stdout",
     "output_type": "stream",
     "text": [
      "120 노래방 가기\n",
      "133 파티 계획하기\n",
      "318 맛집 탐방하기\n",
      "324 휴가 계획하기\n",
      "221 바비큐 하기\n"
     ]
    }
   ],
   "source": [
    "# 여기서 index가 출력임.\n",
    "\n",
    "k=5\n",
    "\n",
    "for index in prediction.argsort()[-k:][::-1]:\n",
    "    print (index, total_text[index])    "
   ]
  },
  {
   "cell_type": "code",
   "execution_count": null,
   "id": "c4a65099-e927-4186-8611-4216600cc429",
   "metadata": {},
   "outputs": [],
   "source": []
  },
  {
   "cell_type": "code",
   "execution_count": null,
   "id": "425bb7c9-6397-4a54-8b47-bacdeddb29c9",
   "metadata": {},
   "outputs": [],
   "source": []
  }
 ],
 "metadata": {
  "kernelspec": {
   "display_name": "Python 3 (ipykernel)",
   "language": "python",
   "name": "python3"
  },
  "language_info": {
   "codemirror_mode": {
    "name": "ipython",
    "version": 3
   },
   "file_extension": ".py",
   "mimetype": "text/x-python",
   "name": "python",
   "nbconvert_exporter": "python",
   "pygments_lexer": "ipython3",
   "version": "3.8.13"
  }
 },
 "nbformat": 4,
 "nbformat_minor": 5
}
